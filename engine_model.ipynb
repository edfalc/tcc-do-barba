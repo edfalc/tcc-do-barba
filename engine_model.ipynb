{
 "metadata": {
  "language_info": {
   "codemirror_mode": {
    "name": "ipython",
    "version": 3
   },
   "file_extension": ".py",
   "mimetype": "text/x-python",
   "name": "python",
   "nbconvert_exporter": "python",
   "pygments_lexer": "ipython3",
   "version": "3.8.2-final"
  },
  "orig_nbformat": 2,
  "kernelspec": {
   "name": "python_defaultSpec_1599583548048",
   "display_name": "Python 3.8.2 64-bit"
  }
 },
 "nbformat": 4,
 "nbformat_minor": 2,
 "cells": [
  {
   "cell_type": "code",
   "execution_count": 37,
   "metadata": {},
   "outputs": [],
   "source": [
    "import matplotlib.pyplot as plt\n",
    "import numpy as np\n",
    "import equations\n",
    "import math\n",
    "\n",
    "%matplotlib inline"
   ]
  },
  {
   "cell_type": "code",
   "execution_count": 38,
   "metadata": {},
   "outputs": [],
   "source": [
    "# Calibrations index vectors for combustion duration\n",
    "# Combustion duration vectors (1x20)\n",
    "combDurationVecE100 = [14.315, 14.888, 15.514, 15.929, 17.006, 16.812, 16.52, 18.693, 18.096, 17.447, 18.361, 18.349, 18.17, 17.988, 18.186, 17.908, 18.168, 18.861, 19.76, 20.953]\n",
    "combDurationVecE22 = [16.016, 16.366, 16.356, 16.838, 17.656, 17.445, 17.633, 18.533, 18.371, 17.848, 19.066, 19.096, 19.256, 19.023, 19.261, 19.658, 20.383, 21.321, 21.291, 22.778]\n",
    "# Engine speed input vector\n",
    "engSpeedVec = [1500, 1750, 2000, 2250, 2500, 2750, 3000, 3250, 3500, 3750, 4000, 4250, 4500, 4750, 5000, 5250, 5500, 5750, 6000, 6250]"
   ]
  },
  {
   "cell_type": "code",
   "execution_count": 39,
   "metadata": {},
   "outputs": [],
   "source": [
    "# Structural engine parameters\n",
    "# Connecting rod (m)\n",
    "connRodLength = 183.2e-3\n",
    "# Crankshaft radius (m)\n",
    "crankRadius = 43.15e-3\n",
    "# Piston diameter (m)\n",
    "pistonDiameter = 70e-3\n",
    "# Cylinder volume (m³)\n",
    "cylClearanceVol = 32.64e-6\n",
    "# Clearance volume height (m)\n",
    "cylclearanceHeight = cylClearanceVol / (math.pi * pistonDiameter/2) ** 2\n",
    "# Piston area (m²)\n",
    "pistonArea = math.pi * (pistonDiameter/2) ** 2\n",
    "# Crank radius to connecting rod length ratio (m)\n",
    "crankConnRodRatio = crankRadius / connRodLength\n",
    "# Max piston displacement (m)\n",
    "maxPistonDisp = 2 * crankRadius\n",
    "# Total cylinder displaced volume (m³)\n",
    "cylinderDispVol = cylClearanceVol + maxPistonDisp*pistonArea\n",
    "# Clearance volume related area at top dead center (m²)\n",
    "clearanceVolArea = cylClearanceVol / cylclearanceHeight"
   ]
  },
  {
   "cell_type": "code",
   "execution_count": 40,
   "metadata": {},
   "outputs": [],
   "source": [
    "# Engine operating conditions\n",
    "# Engine speed (RPM)\n",
    "engSpeed = 2000\n",
    "# Spark advance (CA)\n",
    "sparkAdvance = 10\n",
    "# Fuel mass injected per cyclinder per cycle (kg/cyc)\n",
    "fuelMass = 40.03e-6\n",
    "# AF ratio\n",
    "airFuelRatio = 7.8\n",
    "# Intake manifold pressure (Pa)\n",
    "intManifoldPress = 90700\n",
    "# Intake manifold Temperature (K)\n",
    "intManifoldTemp = 292"
   ]
  },
  {
   "cell_type": "code",
   "execution_count": 41,
   "metadata": {},
   "outputs": [],
   "source": [
    "# Air, fuel and heat transfer process properties\n",
    "# Fuel lower heating value (J/kg) - E100 = 24.65e6; E22 = 38.92e6\n",
    "lowerFuelHeatVal = 24.65e6\n",
    "# Max fuel heat release per cylinder per cycle (J/cyc)\n",
    "maxFuelHeatRelease = lowerFuelHeatVal * fuelMass\n",
    "# Specific gas constant considering dry air (j/kg.K)\n",
    "gasConst = 287\n",
    "# Stoichiometric AF ratio (J/Kg) - E100 = 8.5; E22 = 13.2\n",
    "stoichiAirFuelRatio = 13.2\n",
    "# Stoichiometric air mass (kg)\n",
    "stoichiAirMass = stoichiAirFuelRatio * fuelMass\n",
    "# Actual air mass (kg)\n",
    "airMass = airFuelRatio * fuelMass\n",
    "# Air excess factor\n",
    "airExcessFactor = airMass / stoichiAirMass"
   ]
  },
  {
   "cell_type": "code",
   "execution_count": 42,
   "metadata": {},
   "outputs": [],
   "source": [
    "# Heat release properties\n",
    "# Wiebe factor\n",
    "wiebeFactor = 2.6\n",
    "# Burned percentage considered at start of combustion\n",
    "burnedFuelStart = 0.1\n",
    "burnedFuelStartConst = -math.log(1 - burnedFuelStart)\n",
    "# Burned percentage at end of combustion\n",
    "burnedFuelEnd = 0.9\n",
    "burnedFuelEndConst = -math.log(1 - burnedFuelEnd)"
   ]
  },
  {
   "cell_type": "code",
   "execution_count": 43,
   "metadata": {},
   "outputs": [],
   "source": [
    "# Simulation parameters\n",
    "# Crankshaft angle calculation step\n",
    "crankStep = 0.5\n",
    "# Number of cycles to simulate\n",
    "totalCycles = 1\n",
    "cycleCounter = 0\n",
    "# Crank angle at intake valve closing (CA)\n",
    "crankAngleIvc = 180\n",
    "# Crank angle at exhaust valve opening (CA)\n",
    "crankAngleEvo = 540"
   ]
  },
  {
   "cell_type": "code",
   "execution_count": 44,
   "metadata": {},
   "outputs": [],
   "source": [
    "# Data vectors\n",
    "# Cylinder pressure\n",
    "\n",
    "cylinderPressData = []"
   ]
  },
  {
   "cell_type": "code",
   "execution_count": 45,
   "metadata": {},
   "outputs": [],
   "source": [
    "# Cycles simulation\n",
    "for cycle in range(totalCycles):\n",
    "    # Parameters initialization before beginning of cycle\n",
    "    # Cylinder temperature at intake valve closing (K)\n",
    "    cylTempIvc = intManifoldTemp\n",
    "    # Cylinder pressure at intake valve closing (Pa)\n",
    "    cylPressIvc = intManifoldPress\n",
    "    # Cylinder pressure at start of high pressure cycle (Pa)\n",
    "    cylinderPress = cylPressIvc\n",
    "    # Combustion duration\n",
    "    combDuration = equations.get_mapped_value(engSpeedVec, combDurationVecE22, 1, engSpeed)\n",
    "    # Average piston speed (m/s)\n",
    "    avgPistonSpeed = 4 * crankRadius * engSpeed / 60\n",
    "    # Average cylinder wall temperature (K)\n",
    "    avgCylWallTemp = 360 + 9 * (airExcessFactor ** 0.4) * math.sqrt(engSpeed * pistonDiameter)\n",
    "    # Wiebe's form factor\n",
    "    formFactorWiebe = (combDuration / (burnedFuelEndConst ** (1 / (wiebeFactor + 1)) - burnedFuelStartConst ** (1 / (wiebeFactor + 1)))) ** (-wiebeFactor - 1)\n",
    "    # Unburned mixture temperature (K)\n",
    "    mixtureTemp = intManifoldPress * cylinderDispVol * intManifoldTemp / (cylinderDispVol * intManifoldPress)\n",
    "\n",
    "    # Initial conditions for high pressure cycle\n",
    "    # Cylinder volume one crank step before intake valve closure (m³)\n",
    "    cylinderVolPrev =  cylClearanceVol + equations.piston_disp(crankAngleIvc, crankRadius, crankConnRodRatio) * pistonArea\n",
    "    # Combustion related variables\n",
    "    fuelMassUnburnedPrev = fuelMass\n",
    "    fuelHeatRelease = 0\n",
    "    fuelHeatReleasePrev = 0\n",
    "    fuelMassBurnedDelta = 0\n",
    "\n",
    "    # Compression and expanion strokes\n",
    "    for crankAngle in np.arange(crankAngleIvc + crankStep, crankAngleEvo + crankStep, crankStep):\n",
    "        # Piston displacement relative to top dead center (m)\n",
    "        pistonDisp = equations.piston_disp(crankAngle, crankRadius, crankConnRodRatio)\n",
    "        # Cylinder volume (m³)\n",
    "        cylinderVol = cylClearanceVol + pistonArea * pistonDisp\n",
    "        # Cylinder volume delta in between consecutive crank steps (m³)\n",
    "        cylinderVolDelta = cylinderVol - cylinderVolPrev\n",
    "        # Specific heat constant (J/kg.K)\n",
    "        specHeatConst = 700 + 0.255 * mixtureTemp\n",
    "        # Polytropic exponent\n",
    "        polytropicExp = 1 + gasConst / specHeatConst\n",
    "        # Unburned mixture temperature (K)\n",
    "        mixtureTemp = cylinderPress * cylinderVol * intManifoldTemp / (cylinderDispVol * intManifoldPress)\n",
    "        # Convective heat transfer coefficient (W/m².K)\n",
    "        heatTransfCoeff = equations.heat_transfer_coeff(cylinderVol, cylinderPress, mixtureTemp, avgPistonSpeed)\n",
    "        # Combustion chamber area (m)\n",
    "        combChamberArea = 2 * math.pi * (pistonDisp + cylclearanceHeight)\n",
    "\n",
    "        # Combustion process\n",
    "        if 360 - sparkAdvance <= crankAngle:\n",
    "            fuelBurnRate = (1 - math.exp(-formFactorWiebe * (crankAngle - (360 - sparkAdvance)) ** (wiebeFactor + 1)))\n",
    "            # Fuel heat release\n",
    "            fuelHeatRelease = maxFuelHeatRelease * fuelBurnRate\n",
    "            # Remaining fuel mass\n",
    "            fuelMassUnburned = fuelMass * (1 - fuelBurnRate)\n",
    "            # Fuel mass burned delta\n",
    "            fuelMassBurnedDelta = fuelMassUnburned - fuelMassUnburnedPrev\n",
    "            # Fuel mass unburned\n",
    "            fuelMassUnburnedPrev = fuelMassUnburned\n",
    "            \n",
    "        # Fuel heat release rate (J/CA) \n",
    "        fuelHeatReleaseRateDelta = fuelHeatRelease - fuelHeatReleasePrev\n",
    "        # Rate of heat transferred to cylinder walls (J/kg)\n",
    "        heatTransfCylWallRate = 1 / (360 * engSpeed / 60) * heatTransfCoeff * combChamberArea * (mixtureTemp - avgCylWallTemp)\n",
    "        # Cylinder pressure rate of change (Pa)\n",
    "        cylinderPressDelta = equations.cylinder_press(gasConst, specHeatConst, cylinderVol, fuelHeatReleaseRateDelta, heatTransfCylWallRate, fuelMassBurnedDelta, cylinderPress, cylinderVolDelta)\n",
    "        # Actual cylinder pressure\n",
    "        cylinderPress = cylinderPress + cylinderPressDelta\n",
    "\n",
    "        # State variables update for next cycle\n",
    "        # Cylinder volume\n",
    "        cylinderVolPrev = cylinderVol\n",
    "        # Fuel heat released\n",
    "        fuelHeatReleasePrev = fuelHeatRelease\n",
    "\n",
    "        # Data vectors update\n",
    "        # In-cylinder pressure (Pa)\n",
    "        cylinderPressData.append(cylinderPress)\n",
    "\n",
    "        "
   ]
  },
  {
   "cell_type": "code",
   "execution_count": 46,
   "metadata": {},
   "outputs": [
    {
     "output_type": "execute_result",
     "data": {
      "text/plain": "[<matplotlib.lines.Line2D at 0x7ff136bb85b0>]"
     },
     "metadata": {},
     "execution_count": 46
    },
    {
     "output_type": "display_data",
     "data": {
      "text/plain": "<Figure size 432x288 with 1 Axes>",
      "image/svg+xml": "<?xml version=\"1.0\" encoding=\"utf-8\" standalone=\"no\"?>\n<!DOCTYPE svg PUBLIC \"-//W3C//DTD SVG 1.1//EN\"\n  \"http://www.w3.org/Graphics/SVG/1.1/DTD/svg11.dtd\">\n<!-- Created with matplotlib (https://matplotlib.org/) -->\n<svg height=\"248.518125pt\" version=\"1.1\" viewBox=\"0 0 400.7375 248.518125\" width=\"400.7375pt\" xmlns=\"http://www.w3.org/2000/svg\" xmlns:xlink=\"http://www.w3.org/1999/xlink\">\n <defs>\n  <style type=\"text/css\">\n*{stroke-linecap:butt;stroke-linejoin:round;}\n  </style>\n </defs>\n <g id=\"figure_1\">\n  <g id=\"patch_1\">\n   <path d=\"M 0 248.518125 \nL 400.7375 248.518125 \nL 400.7375 0 \nL 0 0 \nz\n\" style=\"fill:none;\"/>\n  </g>\n  <g id=\"axes_1\">\n   <g id=\"patch_2\">\n    <path d=\"M 58.7375 224.64 \nL 393.5375 224.64 \nL 393.5375 7.2 \nL 58.7375 7.2 \nz\n\" style=\"fill:#ffffff;\"/>\n   </g>\n   <g id=\"matplotlib.axis_1\">\n    <g id=\"xtick_1\">\n     <g id=\"line2d_1\">\n      <defs>\n       <path d=\"M 0 0 \nL 0 3.5 \n\" id=\"mab3e2f64bf\" style=\"stroke:#000000;stroke-width:0.8;\"/>\n      </defs>\n      <g>\n       <use style=\"stroke:#000000;stroke-width:0.8;\" x=\"73.955682\" xlink:href=\"#mab3e2f64bf\" y=\"224.64\"/>\n      </g>\n     </g>\n     <g id=\"text_1\">\n      <!-- 0 -->\n      <defs>\n       <path d=\"M 31.78125 66.40625 \nQ 24.171875 66.40625 20.328125 58.90625 \nQ 16.5 51.421875 16.5 36.375 \nQ 16.5 21.390625 20.328125 13.890625 \nQ 24.171875 6.390625 31.78125 6.390625 \nQ 39.453125 6.390625 43.28125 13.890625 \nQ 47.125 21.390625 47.125 36.375 \nQ 47.125 51.421875 43.28125 58.90625 \nQ 39.453125 66.40625 31.78125 66.40625 \nz\nM 31.78125 74.21875 \nQ 44.046875 74.21875 50.515625 64.515625 \nQ 56.984375 54.828125 56.984375 36.375 \nQ 56.984375 17.96875 50.515625 8.265625 \nQ 44.046875 -1.421875 31.78125 -1.421875 \nQ 19.53125 -1.421875 13.0625 8.265625 \nQ 6.59375 17.96875 6.59375 36.375 \nQ 6.59375 54.828125 13.0625 64.515625 \nQ 19.53125 74.21875 31.78125 74.21875 \nz\n\" id=\"DejaVuSans-48\"/>\n      </defs>\n      <g transform=\"translate(70.774432 239.238437)scale(0.1 -0.1)\">\n       <use xlink:href=\"#DejaVuSans-48\"/>\n      </g>\n     </g>\n    </g>\n    <g id=\"xtick_2\">\n     <g id=\"line2d_2\">\n      <g>\n       <use style=\"stroke:#000000;stroke-width:0.8;\" x=\"116.287203\" xlink:href=\"#mab3e2f64bf\" y=\"224.64\"/>\n      </g>\n     </g>\n     <g id=\"text_2\">\n      <!-- 100 -->\n      <defs>\n       <path d=\"M 12.40625 8.296875 \nL 28.515625 8.296875 \nL 28.515625 63.921875 \nL 10.984375 60.40625 \nL 10.984375 69.390625 \nL 28.421875 72.90625 \nL 38.28125 72.90625 \nL 38.28125 8.296875 \nL 54.390625 8.296875 \nL 54.390625 0 \nL 12.40625 0 \nz\n\" id=\"DejaVuSans-49\"/>\n      </defs>\n      <g transform=\"translate(106.743453 239.238437)scale(0.1 -0.1)\">\n       <use xlink:href=\"#DejaVuSans-49\"/>\n       <use x=\"63.623047\" xlink:href=\"#DejaVuSans-48\"/>\n       <use x=\"127.246094\" xlink:href=\"#DejaVuSans-48\"/>\n      </g>\n     </g>\n    </g>\n    <g id=\"xtick_3\">\n     <g id=\"line2d_3\">\n      <g>\n       <use style=\"stroke:#000000;stroke-width:0.8;\" x=\"158.618724\" xlink:href=\"#mab3e2f64bf\" y=\"224.64\"/>\n      </g>\n     </g>\n     <g id=\"text_3\">\n      <!-- 200 -->\n      <defs>\n       <path d=\"M 19.1875 8.296875 \nL 53.609375 8.296875 \nL 53.609375 0 \nL 7.328125 0 \nL 7.328125 8.296875 \nQ 12.9375 14.109375 22.625 23.890625 \nQ 32.328125 33.6875 34.8125 36.53125 \nQ 39.546875 41.84375 41.421875 45.53125 \nQ 43.3125 49.21875 43.3125 52.78125 \nQ 43.3125 58.59375 39.234375 62.25 \nQ 35.15625 65.921875 28.609375 65.921875 \nQ 23.96875 65.921875 18.8125 64.3125 \nQ 13.671875 62.703125 7.8125 59.421875 \nL 7.8125 69.390625 \nQ 13.765625 71.78125 18.9375 73 \nQ 24.125 74.21875 28.421875 74.21875 \nQ 39.75 74.21875 46.484375 68.546875 \nQ 53.21875 62.890625 53.21875 53.421875 \nQ 53.21875 48.921875 51.53125 44.890625 \nQ 49.859375 40.875 45.40625 35.40625 \nQ 44.1875 33.984375 37.640625 27.21875 \nQ 31.109375 20.453125 19.1875 8.296875 \nz\n\" id=\"DejaVuSans-50\"/>\n      </defs>\n      <g transform=\"translate(149.074974 239.238437)scale(0.1 -0.1)\">\n       <use xlink:href=\"#DejaVuSans-50\"/>\n       <use x=\"63.623047\" xlink:href=\"#DejaVuSans-48\"/>\n       <use x=\"127.246094\" xlink:href=\"#DejaVuSans-48\"/>\n      </g>\n     </g>\n    </g>\n    <g id=\"xtick_4\">\n     <g id=\"line2d_4\">\n      <g>\n       <use style=\"stroke:#000000;stroke-width:0.8;\" x=\"200.950245\" xlink:href=\"#mab3e2f64bf\" y=\"224.64\"/>\n      </g>\n     </g>\n     <g id=\"text_4\">\n      <!-- 300 -->\n      <defs>\n       <path d=\"M 40.578125 39.3125 \nQ 47.65625 37.796875 51.625 33 \nQ 55.609375 28.21875 55.609375 21.1875 \nQ 55.609375 10.40625 48.1875 4.484375 \nQ 40.765625 -1.421875 27.09375 -1.421875 \nQ 22.515625 -1.421875 17.65625 -0.515625 \nQ 12.796875 0.390625 7.625 2.203125 \nL 7.625 11.71875 \nQ 11.71875 9.328125 16.59375 8.109375 \nQ 21.484375 6.890625 26.8125 6.890625 \nQ 36.078125 6.890625 40.9375 10.546875 \nQ 45.796875 14.203125 45.796875 21.1875 \nQ 45.796875 27.640625 41.28125 31.265625 \nQ 36.765625 34.90625 28.71875 34.90625 \nL 20.21875 34.90625 \nL 20.21875 43.015625 \nL 29.109375 43.015625 \nQ 36.375 43.015625 40.234375 45.921875 \nQ 44.09375 48.828125 44.09375 54.296875 \nQ 44.09375 59.90625 40.109375 62.90625 \nQ 36.140625 65.921875 28.71875 65.921875 \nQ 24.65625 65.921875 20.015625 65.03125 \nQ 15.375 64.15625 9.8125 62.3125 \nL 9.8125 71.09375 \nQ 15.4375 72.65625 20.34375 73.4375 \nQ 25.25 74.21875 29.59375 74.21875 \nQ 40.828125 74.21875 47.359375 69.109375 \nQ 53.90625 64.015625 53.90625 55.328125 \nQ 53.90625 49.265625 50.4375 45.09375 \nQ 46.96875 40.921875 40.578125 39.3125 \nz\n\" id=\"DejaVuSans-51\"/>\n      </defs>\n      <g transform=\"translate(191.406495 239.238437)scale(0.1 -0.1)\">\n       <use xlink:href=\"#DejaVuSans-51\"/>\n       <use x=\"63.623047\" xlink:href=\"#DejaVuSans-48\"/>\n       <use x=\"127.246094\" xlink:href=\"#DejaVuSans-48\"/>\n      </g>\n     </g>\n    </g>\n    <g id=\"xtick_5\">\n     <g id=\"line2d_5\">\n      <g>\n       <use style=\"stroke:#000000;stroke-width:0.8;\" x=\"243.281766\" xlink:href=\"#mab3e2f64bf\" y=\"224.64\"/>\n      </g>\n     </g>\n     <g id=\"text_5\">\n      <!-- 400 -->\n      <defs>\n       <path d=\"M 37.796875 64.3125 \nL 12.890625 25.390625 \nL 37.796875 25.390625 \nz\nM 35.203125 72.90625 \nL 47.609375 72.90625 \nL 47.609375 25.390625 \nL 58.015625 25.390625 \nL 58.015625 17.1875 \nL 47.609375 17.1875 \nL 47.609375 0 \nL 37.796875 0 \nL 37.796875 17.1875 \nL 4.890625 17.1875 \nL 4.890625 26.703125 \nz\n\" id=\"DejaVuSans-52\"/>\n      </defs>\n      <g transform=\"translate(233.738016 239.238437)scale(0.1 -0.1)\">\n       <use xlink:href=\"#DejaVuSans-52\"/>\n       <use x=\"63.623047\" xlink:href=\"#DejaVuSans-48\"/>\n       <use x=\"127.246094\" xlink:href=\"#DejaVuSans-48\"/>\n      </g>\n     </g>\n    </g>\n    <g id=\"xtick_6\">\n     <g id=\"line2d_6\">\n      <g>\n       <use style=\"stroke:#000000;stroke-width:0.8;\" x=\"285.613287\" xlink:href=\"#mab3e2f64bf\" y=\"224.64\"/>\n      </g>\n     </g>\n     <g id=\"text_6\">\n      <!-- 500 -->\n      <defs>\n       <path d=\"M 10.796875 72.90625 \nL 49.515625 72.90625 \nL 49.515625 64.59375 \nL 19.828125 64.59375 \nL 19.828125 46.734375 \nQ 21.96875 47.46875 24.109375 47.828125 \nQ 26.265625 48.1875 28.421875 48.1875 \nQ 40.625 48.1875 47.75 41.5 \nQ 54.890625 34.8125 54.890625 23.390625 \nQ 54.890625 11.625 47.5625 5.09375 \nQ 40.234375 -1.421875 26.90625 -1.421875 \nQ 22.3125 -1.421875 17.546875 -0.640625 \nQ 12.796875 0.140625 7.71875 1.703125 \nL 7.71875 11.625 \nQ 12.109375 9.234375 16.796875 8.0625 \nQ 21.484375 6.890625 26.703125 6.890625 \nQ 35.15625 6.890625 40.078125 11.328125 \nQ 45.015625 15.765625 45.015625 23.390625 \nQ 45.015625 31 40.078125 35.4375 \nQ 35.15625 39.890625 26.703125 39.890625 \nQ 22.75 39.890625 18.8125 39.015625 \nQ 14.890625 38.140625 10.796875 36.28125 \nz\n\" id=\"DejaVuSans-53\"/>\n      </defs>\n      <g transform=\"translate(276.069537 239.238437)scale(0.1 -0.1)\">\n       <use xlink:href=\"#DejaVuSans-53\"/>\n       <use x=\"63.623047\" xlink:href=\"#DejaVuSans-48\"/>\n       <use x=\"127.246094\" xlink:href=\"#DejaVuSans-48\"/>\n      </g>\n     </g>\n    </g>\n    <g id=\"xtick_7\">\n     <g id=\"line2d_7\">\n      <g>\n       <use style=\"stroke:#000000;stroke-width:0.8;\" x=\"327.944808\" xlink:href=\"#mab3e2f64bf\" y=\"224.64\"/>\n      </g>\n     </g>\n     <g id=\"text_7\">\n      <!-- 600 -->\n      <defs>\n       <path d=\"M 33.015625 40.375 \nQ 26.375 40.375 22.484375 35.828125 \nQ 18.609375 31.296875 18.609375 23.390625 \nQ 18.609375 15.53125 22.484375 10.953125 \nQ 26.375 6.390625 33.015625 6.390625 \nQ 39.65625 6.390625 43.53125 10.953125 \nQ 47.40625 15.53125 47.40625 23.390625 \nQ 47.40625 31.296875 43.53125 35.828125 \nQ 39.65625 40.375 33.015625 40.375 \nz\nM 52.59375 71.296875 \nL 52.59375 62.3125 \nQ 48.875 64.0625 45.09375 64.984375 \nQ 41.3125 65.921875 37.59375 65.921875 \nQ 27.828125 65.921875 22.671875 59.328125 \nQ 17.53125 52.734375 16.796875 39.40625 \nQ 19.671875 43.65625 24.015625 45.921875 \nQ 28.375 48.1875 33.59375 48.1875 \nQ 44.578125 48.1875 50.953125 41.515625 \nQ 57.328125 34.859375 57.328125 23.390625 \nQ 57.328125 12.15625 50.6875 5.359375 \nQ 44.046875 -1.421875 33.015625 -1.421875 \nQ 20.359375 -1.421875 13.671875 8.265625 \nQ 6.984375 17.96875 6.984375 36.375 \nQ 6.984375 53.65625 15.1875 63.9375 \nQ 23.390625 74.21875 37.203125 74.21875 \nQ 40.921875 74.21875 44.703125 73.484375 \nQ 48.484375 72.75 52.59375 71.296875 \nz\n\" id=\"DejaVuSans-54\"/>\n      </defs>\n      <g transform=\"translate(318.401058 239.238437)scale(0.1 -0.1)\">\n       <use xlink:href=\"#DejaVuSans-54\"/>\n       <use x=\"63.623047\" xlink:href=\"#DejaVuSans-48\"/>\n       <use x=\"127.246094\" xlink:href=\"#DejaVuSans-48\"/>\n      </g>\n     </g>\n    </g>\n    <g id=\"xtick_8\">\n     <g id=\"line2d_8\">\n      <g>\n       <use style=\"stroke:#000000;stroke-width:0.8;\" x=\"370.276329\" xlink:href=\"#mab3e2f64bf\" y=\"224.64\"/>\n      </g>\n     </g>\n     <g id=\"text_8\">\n      <!-- 700 -->\n      <defs>\n       <path d=\"M 8.203125 72.90625 \nL 55.078125 72.90625 \nL 55.078125 68.703125 \nL 28.609375 0 \nL 18.3125 0 \nL 43.21875 64.59375 \nL 8.203125 64.59375 \nz\n\" id=\"DejaVuSans-55\"/>\n      </defs>\n      <g transform=\"translate(360.732579 239.238437)scale(0.1 -0.1)\">\n       <use xlink:href=\"#DejaVuSans-55\"/>\n       <use x=\"63.623047\" xlink:href=\"#DejaVuSans-48\"/>\n       <use x=\"127.246094\" xlink:href=\"#DejaVuSans-48\"/>\n      </g>\n     </g>\n    </g>\n   </g>\n   <g id=\"matplotlib.axis_2\">\n    <g id=\"ytick_1\">\n     <g id=\"line2d_9\">\n      <defs>\n       <path d=\"M 0 0 \nL -3.5 0 \n\" id=\"m1ee2ef798f\" style=\"stroke:#000000;stroke-width:0.8;\"/>\n      </defs>\n      <g>\n       <use style=\"stroke:#000000;stroke-width:0.8;\" x=\"58.7375\" xlink:href=\"#m1ee2ef798f\" y=\"217.694331\"/>\n      </g>\n     </g>\n     <g id=\"text_9\">\n      <!-- 0 -->\n      <g transform=\"translate(45.375 221.493549)scale(0.1 -0.1)\">\n       <use xlink:href=\"#DejaVuSans-48\"/>\n      </g>\n     </g>\n    </g>\n    <g id=\"ytick_2\">\n     <g id=\"line2d_10\">\n      <g>\n       <use style=\"stroke:#000000;stroke-width:0.8;\" x=\"58.7375\" xlink:href=\"#m1ee2ef798f\" y=\"185.55213\"/>\n      </g>\n     </g>\n     <g id=\"text_10\">\n      <!-- 1000000 -->\n      <g transform=\"translate(7.2 189.351349)scale(0.1 -0.1)\">\n       <use xlink:href=\"#DejaVuSans-49\"/>\n       <use x=\"63.623047\" xlink:href=\"#DejaVuSans-48\"/>\n       <use x=\"127.246094\" xlink:href=\"#DejaVuSans-48\"/>\n       <use x=\"190.869141\" xlink:href=\"#DejaVuSans-48\"/>\n       <use x=\"254.492188\" xlink:href=\"#DejaVuSans-48\"/>\n       <use x=\"318.115234\" xlink:href=\"#DejaVuSans-48\"/>\n       <use x=\"381.738281\" xlink:href=\"#DejaVuSans-48\"/>\n      </g>\n     </g>\n    </g>\n    <g id=\"ytick_3\">\n     <g id=\"line2d_11\">\n      <g>\n       <use style=\"stroke:#000000;stroke-width:0.8;\" x=\"58.7375\" xlink:href=\"#m1ee2ef798f\" y=\"153.40993\"/>\n      </g>\n     </g>\n     <g id=\"text_11\">\n      <!-- 2000000 -->\n      <g transform=\"translate(7.2 157.209149)scale(0.1 -0.1)\">\n       <use xlink:href=\"#DejaVuSans-50\"/>\n       <use x=\"63.623047\" xlink:href=\"#DejaVuSans-48\"/>\n       <use x=\"127.246094\" xlink:href=\"#DejaVuSans-48\"/>\n       <use x=\"190.869141\" xlink:href=\"#DejaVuSans-48\"/>\n       <use x=\"254.492188\" xlink:href=\"#DejaVuSans-48\"/>\n       <use x=\"318.115234\" xlink:href=\"#DejaVuSans-48\"/>\n       <use x=\"381.738281\" xlink:href=\"#DejaVuSans-48\"/>\n      </g>\n     </g>\n    </g>\n    <g id=\"ytick_4\">\n     <g id=\"line2d_12\">\n      <g>\n       <use style=\"stroke:#000000;stroke-width:0.8;\" x=\"58.7375\" xlink:href=\"#m1ee2ef798f\" y=\"121.267729\"/>\n      </g>\n     </g>\n     <g id=\"text_12\">\n      <!-- 3000000 -->\n      <g transform=\"translate(7.2 125.066948)scale(0.1 -0.1)\">\n       <use xlink:href=\"#DejaVuSans-51\"/>\n       <use x=\"63.623047\" xlink:href=\"#DejaVuSans-48\"/>\n       <use x=\"127.246094\" xlink:href=\"#DejaVuSans-48\"/>\n       <use x=\"190.869141\" xlink:href=\"#DejaVuSans-48\"/>\n       <use x=\"254.492188\" xlink:href=\"#DejaVuSans-48\"/>\n       <use x=\"318.115234\" xlink:href=\"#DejaVuSans-48\"/>\n       <use x=\"381.738281\" xlink:href=\"#DejaVuSans-48\"/>\n      </g>\n     </g>\n    </g>\n    <g id=\"ytick_5\">\n     <g id=\"line2d_13\">\n      <g>\n       <use style=\"stroke:#000000;stroke-width:0.8;\" x=\"58.7375\" xlink:href=\"#m1ee2ef798f\" y=\"89.125529\"/>\n      </g>\n     </g>\n     <g id=\"text_13\">\n      <!-- 4000000 -->\n      <g transform=\"translate(7.2 92.924748)scale(0.1 -0.1)\">\n       <use xlink:href=\"#DejaVuSans-52\"/>\n       <use x=\"63.623047\" xlink:href=\"#DejaVuSans-48\"/>\n       <use x=\"127.246094\" xlink:href=\"#DejaVuSans-48\"/>\n       <use x=\"190.869141\" xlink:href=\"#DejaVuSans-48\"/>\n       <use x=\"254.492188\" xlink:href=\"#DejaVuSans-48\"/>\n       <use x=\"318.115234\" xlink:href=\"#DejaVuSans-48\"/>\n       <use x=\"381.738281\" xlink:href=\"#DejaVuSans-48\"/>\n      </g>\n     </g>\n    </g>\n    <g id=\"ytick_6\">\n     <g id=\"line2d_14\">\n      <g>\n       <use style=\"stroke:#000000;stroke-width:0.8;\" x=\"58.7375\" xlink:href=\"#m1ee2ef798f\" y=\"56.983329\"/>\n      </g>\n     </g>\n     <g id=\"text_14\">\n      <!-- 5000000 -->\n      <g transform=\"translate(7.2 60.782547)scale(0.1 -0.1)\">\n       <use xlink:href=\"#DejaVuSans-53\"/>\n       <use x=\"63.623047\" xlink:href=\"#DejaVuSans-48\"/>\n       <use x=\"127.246094\" xlink:href=\"#DejaVuSans-48\"/>\n       <use x=\"190.869141\" xlink:href=\"#DejaVuSans-48\"/>\n       <use x=\"254.492188\" xlink:href=\"#DejaVuSans-48\"/>\n       <use x=\"318.115234\" xlink:href=\"#DejaVuSans-48\"/>\n       <use x=\"381.738281\" xlink:href=\"#DejaVuSans-48\"/>\n      </g>\n     </g>\n    </g>\n    <g id=\"ytick_7\">\n     <g id=\"line2d_15\">\n      <g>\n       <use style=\"stroke:#000000;stroke-width:0.8;\" x=\"58.7375\" xlink:href=\"#m1ee2ef798f\" y=\"24.841128\"/>\n      </g>\n     </g>\n     <g id=\"text_15\">\n      <!-- 6000000 -->\n      <g transform=\"translate(7.2 28.640347)scale(0.1 -0.1)\">\n       <use xlink:href=\"#DejaVuSans-54\"/>\n       <use x=\"63.623047\" xlink:href=\"#DejaVuSans-48\"/>\n       <use x=\"127.246094\" xlink:href=\"#DejaVuSans-48\"/>\n       <use x=\"190.869141\" xlink:href=\"#DejaVuSans-48\"/>\n       <use x=\"254.492188\" xlink:href=\"#DejaVuSans-48\"/>\n       <use x=\"318.115234\" xlink:href=\"#DejaVuSans-48\"/>\n       <use x=\"381.738281\" xlink:href=\"#DejaVuSans-48\"/>\n      </g>\n     </g>\n    </g>\n   </g>\n   <g id=\"line2d_16\">\n    <path clip-path=\"url(#pce2fd9f2bf)\" d=\"M 73.955682 214.756364 \nL 92.158236 213.897045 \nL 117.980464 212.661822 \nL 129.83329 211.865861 \nL 139.146224 211.023059 \nL 146.765898 210.115418 \nL 153.115626 209.146102 \nL 158.618724 208.09361 \nL 163.698506 206.89123 \nL 167.931659 205.671707 \nL 171.741495 204.361558 \nL 175.128017 202.989566 \nL 178.514539 201.380888 \nL 181.477745 199.741194 \nL 184.440952 197.844656 \nL 186.980843 195.980936 \nL 189.520734 193.864225 \nL 192.060626 191.46034 \nL 194.600517 188.733805 \nL 197.140408 185.650355 \nL 199.680299 182.181223 \nL 202.220191 178.309942 \nL 204.760082 174.042378 \nL 207.723288 168.621323 \nL 217.036223 151.058407 \nL 219.152799 147.882091 \nL 220.84606 145.381318 \nL 221.69269 143.884627 \nL 222.539321 142.046515 \nL 223.385951 139.717112 \nL 224.232582 136.744228 \nL 225.079212 132.985322 \nL 225.925842 128.32118 \nL 226.772473 122.67022 \nL 228.042418 112.293033 \nL 229.312364 99.802645 \nL 231.005625 80.768888 \nL 233.968831 46.854869 \nL 235.238777 34.759588 \nL 236.085407 28.193217 \nL 236.932038 23.051466 \nL 237.778668 19.458918 \nL 238.201983 18.264329 \nL 238.625299 17.473575 \nL 239.048614 17.083636 \nL 239.471929 17.087667 \nL 239.895244 17.475237 \nL 240.31856 18.232629 \nL 240.741875 19.343177 \nL 241.588505 22.544601 \nL 242.435136 26.902037 \nL 243.705081 35.168641 \nL 245.398342 48.350774 \nL 251.74807 100.266616 \nL 253.864646 114.894081 \nL 255.981222 127.796973 \nL 258.097798 139.086215 \nL 259.791059 147.056591 \nL 261.48432 154.171615 \nL 263.177581 160.511164 \nL 264.870842 166.151786 \nL 266.564103 171.165483 \nL 268.257363 175.619024 \nL 269.950624 179.573645 \nL 272.0672 183.899599 \nL 274.183776 187.629444 \nL 276.300352 190.847666 \nL 278.416928 193.627438 \nL 280.533505 196.031795 \nL 282.650081 198.114812 \nL 284.766657 199.922739 \nL 287.306548 201.784268 \nL 289.846439 203.363419 \nL 292.809646 204.911315 \nL 295.772852 206.199516 \nL 299.159374 207.415505 \nL 302.969211 208.523866 \nL 307.202363 209.504701 \nL 311.85883 210.351082 \nL 317.361928 211.117215 \nL 323.711656 211.772327 \nL 331.33133 212.331226 \nL 340.644264 212.786033 \nL 352.49709 213.127414 \nL 366.889807 213.309485 \nL 378.319318 213.322745 \nL 378.319318 213.322745 \n\" style=\"fill:none;stroke:#1f77b4;stroke-linecap:square;stroke-width:1.5;\"/>\n   </g>\n   <g id=\"patch_3\">\n    <path d=\"M 58.7375 224.64 \nL 58.7375 7.2 \n\" style=\"fill:none;stroke:#000000;stroke-linecap:square;stroke-linejoin:miter;stroke-width:0.8;\"/>\n   </g>\n   <g id=\"patch_4\">\n    <path d=\"M 393.5375 224.64 \nL 393.5375 7.2 \n\" style=\"fill:none;stroke:#000000;stroke-linecap:square;stroke-linejoin:miter;stroke-width:0.8;\"/>\n   </g>\n   <g id=\"patch_5\">\n    <path d=\"M 58.7375 224.64 \nL 393.5375 224.64 \n\" style=\"fill:none;stroke:#000000;stroke-linecap:square;stroke-linejoin:miter;stroke-width:0.8;\"/>\n   </g>\n   <g id=\"patch_6\">\n    <path d=\"M 58.7375 7.2 \nL 393.5375 7.2 \n\" style=\"fill:none;stroke:#000000;stroke-linecap:square;stroke-linejoin:miter;stroke-width:0.8;\"/>\n   </g>\n  </g>\n </g>\n <defs>\n  <clipPath id=\"pce2fd9f2bf\">\n   <rect height=\"217.44\" width=\"334.8\" x=\"58.7375\" y=\"7.2\"/>\n  </clipPath>\n </defs>\n</svg>\n",
      "image/png": "[encoded data removed]"
     },
     "metadata": {
      "needs_background": "light"
     }
    }
   ],
   "source": [
    "plt.plot(cylinderPressData)"
   ]
  },
  {
   "cell_type": "code",
   "execution_count": null,
   "metadata": {},
   "outputs": [],
   "source": []
  }
 ]
}